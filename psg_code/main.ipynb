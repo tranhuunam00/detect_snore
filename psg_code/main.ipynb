{
 "cells": [
  {
   "cell_type": "code",
   "execution_count": 30,
   "metadata": {},
   "outputs": [
    {
     "name": "stdout",
     "output_type": "stream",
     "text": [
      "  StartDate  duration type\n",
      "0  12:43:06     18.49   hy\n",
      "1  12:44:55     13.36   hy\n",
      "2  12:46:27     10.55   hy\n",
      "3  12:46:41     10.60   hy\n",
      "4  12:46:56     10.80   hy\n",
      "            StartDate  duration type                 endDate\n",
      "0 1900-01-01 12:43:06     18.49   hy 1900-01-01 12:43:24.490\n",
      "1 1900-01-01 12:44:55     13.36   hy 1900-01-01 12:45:08.360\n",
      "2 1900-01-01 12:46:27     10.55   hy 1900-01-01 12:46:37.550\n",
      "3 1900-01-01 12:46:41     10.60   hy 1900-01-01 12:46:51.600\n",
      "4 1900-01-01 12:46:56     10.80   hy 1900-01-01 12:47:06.800\n"
     ]
    }
   ],
   "source": [
    "import pandas as pd\n",
    "\n",
    "# Đường dẫn đến tệp Excel\n",
    "file_path = './input/label.xlsx'\n",
    "\n",
    "# Đọc tệp Excel\n",
    "datatimeOA = pd.read_excel(file_path)\n",
    "\n",
    "# Hiển thị các dòng đầu tiên của DataFrame\n",
    "print(datatimeOA.head())\n",
    "datatimeOA['StartDate'] = pd.to_datetime(datatimeOA['StartDate'], format='%H:%M:%S')\n",
    "\n",
    "# Tính toán endDate bằng cách thêm duration (tính bằng giờ) vào StartDate\n",
    "datatimeOA['endDate'] = datatimeOA['StartDate'] + pd.to_timedelta(datatimeOA['duration'], unit='s')\n",
    "\n",
    "# Hiển thị các dòng đầu tiên của DataFrame sau khi tính toán\n",
    "print(datatimeOA.head())\n"
   ]
  },
  {
   "cell_type": "code",
   "execution_count": null,
   "metadata": {},
   "outputs": [],
   "source": []
  },
  {
   "cell_type": "code",
   "execution_count": 31,
   "metadata": {},
   "outputs": [],
   "source": [
    "datatimeOA['endDate'] = pd.to_datetime(datatimeOA['endDate'], format='%H:%M:%S:%f')"
   ]
  },
  {
   "cell_type": "code",
   "execution_count": 32,
   "metadata": {},
   "outputs": [
    {
     "name": "stdout",
     "output_type": "stream",
     "text": [
      "           time     value\n",
      "0  00:37:05:162  0.148586\n",
      "1  00:37:05:167  0.148548\n",
      "2  00:37:05:172  0.148485\n",
      "3  00:37:05:177  0.148397\n",
      "4  00:37:05:182  0.148284\n"
     ]
    }
   ],
   "source": [
    "import pandas as pd\n",
    "\n",
    "# Đường dẫn đến tệp Excel\n",
    "file_path = './input/flowcmh20.xlsx'\n",
    "\n",
    "# Đọc tệp Excel\n",
    "flowData = pd.read_excel(file_path)\n",
    "\n",
    "\n",
    "\n",
    "# Hiển thị các dòng đầu tiên của DataFrame\n",
    "print(flowData.head())"
   ]
  },
  {
   "cell_type": "code",
   "execution_count": 33,
   "metadata": {},
   "outputs": [],
   "source": [
    "def convert_hour_to_12(dt):\n",
    "    if dt.hour == 0:\n",
    "        return dt.replace(hour=12)\n",
    "    return dt"
   ]
  },
  {
   "cell_type": "code",
   "execution_count": 34,
   "metadata": {},
   "outputs": [
    {
     "name": "stdout",
     "output_type": "stream",
     "text": [
      "                     time     value  nhan\n",
      "0 1900-01-01 12:37:05.162  0.148586     0\n",
      "1 1900-01-01 12:37:05.167  0.148548     0\n",
      "2 1900-01-01 12:37:05.172  0.148485     0\n",
      "3 1900-01-01 12:37:05.177  0.148397     0\n",
      "4 1900-01-01 12:37:05.182  0.148284     0\n"
     ]
    }
   ],
   "source": [
    "flowData['time'] = pd.to_datetime(flowData['time'], format='%H:%M:%S:%f')\n",
    "flowData['time'] = flowData['time'].apply(convert_hour_to_12)\n",
    "flowData['nhan'] = 0\n",
    "print(flowData.head())"
   ]
  },
  {
   "cell_type": "code",
   "execution_count": 35,
   "metadata": {},
   "outputs": [
    {
     "name": "stdout",
     "output_type": "stream",
     "text": [
      "                     time     value  nhan\n",
      "0 1900-01-01 12:37:05.162  0.148586     0\n",
      "1 1900-01-01 12:37:05.167  0.148548     0\n",
      "2 1900-01-01 12:37:05.172  0.148485     0\n",
      "3 1900-01-01 12:37:05.177  0.148397     0\n",
      "4 1900-01-01 12:37:05.182  0.148284     0\n"
     ]
    }
   ],
   "source": [
    "for index, row in datatimeOA.iterrows():\n",
    "    mask = (flowData['time'] >= row['StartDate']) & (flowData['time'] <= row['endDate'])\n",
    "    flowData.loc[mask, 'nhan'] = 1\n",
    "    \n",
    "\n",
    "print(flowData.head())"
   ]
  },
  {
   "cell_type": "code",
   "execution_count": 36,
   "metadata": {},
   "outputs": [
    {
     "name": "stdout",
     "output_type": "stream",
     "text": [
      "                          time     value  nhan\n",
      "72168  1900-01-01 12:43:06.002 -0.065932     1\n",
      "72169  1900-01-01 12:43:06.007 -0.065745     1\n",
      "72170  1900-01-01 12:43:06.012 -0.065540     1\n",
      "72171  1900-01-01 12:43:06.017 -0.065319     1\n",
      "72172  1900-01-01 12:43:06.022 -0.065085     1\n",
      "...                        ...       ...   ...\n",
      "628543 1900-01-01 01:29:27.877  0.044959     1\n",
      "628544 1900-01-01 01:29:27.882  0.048235     1\n",
      "628545 1900-01-01 01:29:27.887  0.051751     1\n",
      "628546 1900-01-01 01:29:27.892  0.055507     1\n",
      "628547 1900-01-01 01:29:27.897  0.059505     1\n",
      "\n",
      "[361214 rows x 3 columns]\n"
     ]
    }
   ],
   "source": [
    "flowData_nhan_1 = flowData[flowData['nhan'] == 1]\n",
    "print(flowData_nhan_1)"
   ]
  },
  {
   "cell_type": "code",
   "execution_count": 38,
   "metadata": {},
   "outputs": [],
   "source": [
    "new_file_path = './output/flowData_modified.xlsx'\n",
    "\n",
    "# Lưu DataFrame vào tệp Excel mới\n",
    "flowData.to_excel(new_file_path, index=False)"
   ]
  }
 ],
 "metadata": {
  "kernelspec": {
   "display_name": "Python 3",
   "language": "python",
   "name": "python3"
  },
  "language_info": {
   "codemirror_mode": {
    "name": "ipython",
    "version": 3
   },
   "file_extension": ".py",
   "mimetype": "text/x-python",
   "name": "python",
   "nbconvert_exporter": "python",
   "pygments_lexer": "ipython3",
   "version": "3.10.11"
  }
 },
 "nbformat": 4,
 "nbformat_minor": 2
}
